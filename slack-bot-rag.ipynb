{
 "cells": [
  {
   "cell_type": "code",
   "execution_count": 0,
   "metadata": {
    "application/vnd.databricks.v1+cell": {
     "cellMetadata": {
      "byteLimit": 2048000,
      "rowLimit": 10000
     },
     "inputWidgets": {},
     "nuid": "60cac236-4224-4e71-9cd7-ff7e432c962d",
     "showTitle": false,
     "title": ""
    }
   },
   "outputs": [],
   "source": [
    "model_coordinates = 'users.antoine_amend.slack-bot-rag'"
   ]
  },
  {
   "cell_type": "code",
   "execution_count": 0,
   "metadata": {
    "application/vnd.databricks.v1+cell": {
     "cellMetadata": {
      "byteLimit": 2048000,
      "rowLimit": 10000
     },
     "inputWidgets": {},
     "nuid": "e3b4e04f-aba1-43b4-b7b9-1c1b698fb7b5",
     "showTitle": false,
     "title": ""
    }
   },
   "outputs": [],
   "source": [
    "import pandas as pd\n",
    "\n",
    "history = [\n",
    "  ['HUMAN', 'Hello, how are you?'],\n",
    "  ['BOT', 'I am doing great, what about yourself?'],\n",
    "  ['HUMAN', 'Thanks for asking. Can you help me with a question?'],\n",
    "  ['BOT', 'Sure, what\\s up?'],\n",
    "  ['HUMAN', 'How to create a slack bot?']\n",
    "]\n",
    "\n",
    "model_input = pd.DataFrame(history, columns=['user', 'text'])"
   ]
  },
  {
   "cell_type": "code",
   "execution_count": 0,
   "metadata": {
    "application/vnd.databricks.v1+cell": {
     "cellMetadata": {
      "byteLimit": 2048000,
      "rowLimit": 10000
     },
     "inputWidgets": {},
     "nuid": "454a251d-1564-4b53-b73f-547949fefb46",
     "showTitle": false,
     "title": ""
    }
   },
   "outputs": [],
   "source": [
    "import mlflow\n",
    "from mlflow.pyfunc import PythonModel\n",
    "\n",
    "class DummySlackModel(mlflow.pyfunc.PythonModel):\n",
    "\n",
    "  def predict(self, context, model_input):\n",
    "    import pandas as pd\n",
    "    history = model_input.values.tolist()\n",
    "    question = history.pop(-1)[1]\n",
    "    return pd.DataFrame({\n",
    "      'answer': 'Lorem ipsum dolor sit amet, consectetur adipiscing elit, sed do eiusmod tempor incididunt ut labore et dolore magna aliqua. Ut enim ad minim veniam, quis nostrud exercitation ullamco laboris nisi ut aliquip ex ea commodo consequat. Duis aute irure dolor in reprehenderit in voluptate velit esse cillum dolore eu fugiat nulla pariatur. Excepteur sint occaecat cupidatat non proident, sunt in culpa qui officia deserunt mollit anim id est laborum.',\n",
    "      'links': [\n",
    "        'https://www.databricks.com/',\n",
    "        'https://github.com/databricks-industry-solutions/slack-bot-rag'\n",
    "      ]\n",
    "    })"
   ]
  },
  {
   "cell_type": "code",
   "execution_count": 0,
   "metadata": {
    "application/vnd.databricks.v1+cell": {
     "cellMetadata": {
      "byteLimit": 2048000,
      "rowLimit": 10000
     },
     "inputWidgets": {},
     "nuid": "5b8253b6-1ebb-4d60-b43c-9489b0ca13a2",
     "showTitle": false,
     "title": ""
    }
   },
   "outputs": [],
   "source": [
    "python_model = DummySlackModel()\n",
    "model_output = python_model.predict(None, model_input)"
   ]
  },
  {
   "cell_type": "code",
   "execution_count": 0,
   "metadata": {
    "application/vnd.databricks.v1+cell": {
     "cellMetadata": {
      "byteLimit": 2048000,
      "rowLimit": 10000
     },
     "inputWidgets": {},
     "nuid": "e4e3e9fc-01a1-411e-9f6d-d82987c1939c",
     "showTitle": false,
     "title": ""
    }
   },
   "outputs": [
    {
     "output_type": "execute_result",
     "data": {
      "text/plain": [
       "inputs: \n",
       "  ['user': string, 'text': string]\n",
       "outputs: \n",
       "  ['answer': string, 'links': string]\n",
       "params: \n",
       "  None"
      ]
     },
     "execution_count": 34,
     "metadata": {},
     "output_type": "execute_result"
    }
   ],
   "source": [
    "from mlflow.models.signature import infer_signature\n",
    "model_signature = infer_signature(model_input=model_input, model_output=model_output)\n",
    "model_signature"
   ]
  },
  {
   "cell_type": "code",
   "execution_count": 0,
   "metadata": {
    "application/vnd.databricks.v1+cell": {
     "cellMetadata": {
      "byteLimit": 2048000,
      "rowLimit": 10000
     },
     "inputWidgets": {},
     "nuid": "a0b5694b-f4bd-4fdb-94f5-d3c2c874980c",
     "showTitle": false,
     "title": ""
    }
   },
   "outputs": [
    {
     "output_type": "display_data",
     "data": {
      "application/vnd.jupyter.widget-view+json": {
       "model_id": "13ad51a16e2146aab3d9650e578fc98d",
       "version_major": 2,
       "version_minor": 0
      },
      "text/plain": [
       "Uploading artifacts:   0%|          | 0/6 [00:00<?, ?it/s]"
      ]
     },
     "metadata": {},
     "output_type": "display_data"
    }
   ],
   "source": [
    "with mlflow.start_run() as run:\n",
    "  mlflow.pyfunc.log_model(\n",
    "    artifact_path = 'model',\n",
    "    python_model = python_model,\n",
    "    signature=model_signature,\n",
    "    input_example=model_input\n",
    "  )"
   ]
  },
  {
   "cell_type": "code",
   "execution_count": 0,
   "metadata": {
    "application/vnd.databricks.v1+cell": {
     "cellMetadata": {
      "byteLimit": 2048000,
      "rowLimit": 10000
     },
     "inputWidgets": {},
     "nuid": "48bce048-69f7-4208-bb72-58e9c131f7cb",
     "showTitle": false,
     "title": ""
    }
   },
   "outputs": [
    {
     "output_type": "stream",
     "name": "stderr",
     "output_type": "stream",
     "text": [
      "Successfully registered model 'users.antoine_amend.slack-bot-rag'.\n"
     ]
    },
    {
     "output_type": "display_data",
     "data": {
      "application/vnd.jupyter.widget-view+json": {
       "model_id": "46954b783bd74e3e8699db4c8a9f4fe2",
       "version_major": 2,
       "version_minor": 0
      },
      "text/plain": [
       "Downloading artifacts:   0%|          | 0/6 [00:00<?, ?it/s]"
      ]
     },
     "metadata": {},
     "output_type": "display_data"
    },
    {
     "output_type": "display_data",
     "data": {
      "application/vnd.jupyter.widget-view+json": {
       "model_id": "012520fa81074a99b73e2636476994ef",
       "version_major": 2,
       "version_minor": 0
      },
      "text/plain": [
       "Uploading artifacts:   0%|          | 0/6 [00:00<?, ?it/s]"
      ]
     },
     "metadata": {},
     "output_type": "display_data"
    },
    {
     "output_type": "stream",
     "name": "stderr",
     "output_type": "stream",
     "text": [
      "2023/11/23 17:42:45 INFO mlflow.tracking._model_registry.client: Waiting up to 300 seconds for model version to finish creation. Model name: users.antoine_amend.slack-bot-rag, version 1\nCreated version '1' of model 'users.antoine_amend.slack-bot-rag'.\n"
     ]
    }
   ],
   "source": [
    "from mlflow.tracking import MlflowClient\n",
    "mlflow.set_registry_uri('databricks-uc')\n",
    "client = MlflowClient()\n",
    "latest_model = mlflow.register_model(f'runs:/{run.info.run_id}/model', model_coordinates)\n",
    "client.set_registered_model_alias(model_coordinates, 'production', latest_model.version)"
   ]
  }
 ],
 "metadata": {
  "application/vnd.databricks.v1+notebook": {
   "dashboards": [],
   "language": "python",
   "notebookMetadata": {
    "pythonIndentUnit": 2
   },
   "notebookName": "slack-bot-rag",
   "widgets": {}
  }
 },
 "nbformat": 4,
 "nbformat_minor": 0
}
