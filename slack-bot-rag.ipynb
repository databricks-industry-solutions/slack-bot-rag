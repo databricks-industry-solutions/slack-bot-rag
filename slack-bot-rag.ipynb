{
 "cells": [
  {
   "cell_type": "code",
   "execution_count": 0,
   "metadata": {
    "application/vnd.databricks.v1+cell": {
     "cellMetadata": {
      "byteLimit": 2048000,
      "rowLimit": 10000
     },
     "inputWidgets": {},
     "nuid": "60cac236-4224-4e71-9cd7-ff7e432c962d",
     "showTitle": false,
     "title": ""
    }
   },
   "outputs": [],
   "source": [
    "model_name = 'slack-bot-rag'\n",
    "model_coordinates = f'users.antoine_amend.{model_name}'"
   ]
  },
  {
   "cell_type": "code",
   "execution_count": 0,
   "metadata": {
    "application/vnd.databricks.v1+cell": {
     "cellMetadata": {
      "byteLimit": 2048000,
      "rowLimit": 10000
     },
     "inputWidgets": {},
     "nuid": "a737d28f-85a5-4b39-bce3-1dabb7c07775",
     "showTitle": false,
     "title": ""
    }
   },
   "outputs": [],
   "source": [
    "databricksURL = dbutils.notebook.entry_point.getDbutils().notebook().getContext().apiUrl().getOrElse(None)\n",
    "myToken = dbutils.notebook.entry_point.getDbutils().notebook().getContext().apiToken().getOrElse(None)\n",
    "header = {'Authorization': 'Bearer {}'.format(myToken)}\n",
    "endpoint = '/api/2.0/serving-endpoints'\n",
    "url = f'{databricksURL}{endpoint}'"
   ]
  },
  {
   "cell_type": "code",
   "execution_count": 0,
   "metadata": {
    "application/vnd.databricks.v1+cell": {
     "cellMetadata": {
      "byteLimit": 2048000,
      "rowLimit": 10000
     },
     "inputWidgets": {},
     "nuid": "e3b4e04f-aba1-43b4-b7b9-1c1b698fb7b5",
     "showTitle": false,
     "title": ""
    }
   },
   "outputs": [],
   "source": [
    "import pandas as pd\n",
    "\n",
    "history = [\n",
    "  ['HUMAN', 'Hello, how are you?'],\n",
    "  ['BOT', 'I am doing great, what about yourself?'],\n",
    "  ['HUMAN', 'Thanks for asking. Can you help me with a question?'],\n",
    "  ['BOT', 'Sure, what\\s up?'],\n",
    "  ['HUMAN', 'What is Lorem Ipsum?']\n",
    "]\n",
    "\n",
    "model_input = pd.DataFrame(history, columns=['user', 'text'])"
   ]
  },
  {
   "cell_type": "code",
   "execution_count": 0,
   "metadata": {
    "application/vnd.databricks.v1+cell": {
     "cellMetadata": {
      "byteLimit": 2048000,
      "rowLimit": 10000
     },
     "inputWidgets": {},
     "nuid": "454a251d-1564-4b53-b73f-547949fefb46",
     "showTitle": false,
     "title": ""
    }
   },
   "outputs": [],
   "source": [
    "import mlflow\n",
    "from mlflow.pyfunc import PythonModel\n",
    "\n",
    "class DummySlackModel(mlflow.pyfunc.PythonModel):\n",
    "\n",
    "  def predict(self, context, model_input):\n",
    "    import pandas as pd\n",
    "    history = model_input.values.tolist()\n",
    "    question = history.pop(-1)[1]\n",
    "    return pd.DataFrame([\n",
    "      [\n",
    "        'Lorem Ipsum is simply dummy text of the printing and typesetting industry. Lorem Ipsum has been the industry\\'s standard dummy text ever since the 1500s, when an unknown printer took a galley of type and scrambled it to make a type specimen book. It has survived not only five centuries, but also the leap into electronic typesetting, remaining essentially unchanged. It was popularised in the 1960s with the release of Letraset sheets containing Lorem Ipsum passages, and more recently with desktop publishing software like Aldus PageMaker including versions of Lorem Ipsum.',\n",
    "        [\n",
    "          'https://www.lipsum.com/',\n",
    "          'https://loremipsum.io/'\n",
    "        ]\n",
    "      ]\n",
    "    ], columns=['answer', 'links'])"
   ]
  },
  {
   "cell_type": "code",
   "execution_count": 0,
   "metadata": {
    "application/vnd.databricks.v1+cell": {
     "cellMetadata": {
      "byteLimit": 2048000,
      "rowLimit": 10000
     },
     "inputWidgets": {},
     "nuid": "5b8253b6-1ebb-4d60-b43c-9489b0ca13a2",
     "showTitle": false,
     "title": ""
    }
   },
   "outputs": [
    {
     "output_type": "execute_result",
     "data": {
      "text/plain": [
       "inputs: \n",
       "  ['user': string, 'text': string]\n",
       "outputs: \n",
       "  ['answer': string, 'links': string]\n",
       "params: \n",
       "  None"
      ]
     },
     "execution_count": 5,
     "metadata": {},
     "output_type": "execute_result"
    }
   ],
   "source": [
    "from mlflow.models.signature import infer_signature\n",
    "python_model = DummySlackModel()\n",
    "model_output = python_model.predict(None, model_input)\n",
    "model_signature = infer_signature(model_input=model_input, model_output=model_output)\n",
    "model_signature"
   ]
  },
  {
   "cell_type": "code",
   "execution_count": 0,
   "metadata": {
    "application/vnd.databricks.v1+cell": {
     "cellMetadata": {
      "byteLimit": 2048000,
      "rowLimit": 10000
     },
     "inputWidgets": {},
     "nuid": "a0b5694b-f4bd-4fdb-94f5-d3c2c874980c",
     "showTitle": false,
     "title": ""
    }
   },
   "outputs": [
    {
     "output_type": "stream",
     "name": "stderr",
     "output_type": "stream",
     "text": [
      "/databricks/python/lib/python3.10/site-packages/_distutils_hack/__init__.py:33: UserWarning: Setuptools is replacing distutils.\n  warnings.warn(\"Setuptools is replacing distutils.\")\n"
     ]
    },
    {
     "output_type": "display_data",
     "data": {
      "application/vnd.jupyter.widget-view+json": {
       "model_id": "36fed6ae645d4d798f552844170f61bd",
       "version_major": 2,
       "version_minor": 0
      },
      "text/plain": [
       "Uploading artifacts:   0%|          | 0/6 [00:00<?, ?it/s]"
      ]
     },
     "metadata": {},
     "output_type": "display_data"
    }
   ],
   "source": [
    "with mlflow.start_run() as run:\n",
    "  mlflow.pyfunc.log_model(\n",
    "    artifact_path = 'model',\n",
    "    python_model = python_model,\n",
    "    signature=model_signature,\n",
    "    input_example=model_input\n",
    "  )"
   ]
  },
  {
   "cell_type": "code",
   "execution_count": 0,
   "metadata": {
    "application/vnd.databricks.v1+cell": {
     "cellMetadata": {
      "byteLimit": 2048000,
      "rowLimit": 10000
     },
     "inputWidgets": {},
     "nuid": "48bce048-69f7-4208-bb72-58e9c131f7cb",
     "showTitle": false,
     "title": ""
    }
   },
   "outputs": [
    {
     "output_type": "stream",
     "name": "stderr",
     "output_type": "stream",
     "text": [
      "Registered model 'users.antoine_amend.slack-bot-rag' already exists. Creating a new version of this model...\n"
     ]
    },
    {
     "output_type": "display_data",
     "data": {
      "application/vnd.jupyter.widget-view+json": {
       "model_id": "e62843ad8f9f4a1084069df676148713",
       "version_major": 2,
       "version_minor": 0
      },
      "text/plain": [
       "Downloading artifacts:   0%|          | 0/6 [00:00<?, ?it/s]"
      ]
     },
     "metadata": {},
     "output_type": "display_data"
    },
    {
     "output_type": "display_data",
     "data": {
      "application/vnd.jupyter.widget-view+json": {
       "model_id": "9b5879df6c874aa59cb955c6e194532b",
       "version_major": 2,
       "version_minor": 0
      },
      "text/plain": [
       "Uploading artifacts:   0%|          | 0/6 [00:00<?, ?it/s]"
      ]
     },
     "metadata": {},
     "output_type": "display_data"
    },
    {
     "output_type": "stream",
     "name": "stderr",
     "output_type": "stream",
     "text": [
      "2023/11/24 16:39:05 INFO mlflow.tracking._model_registry.client: Waiting up to 300 seconds for model version to finish creation. Model name: users.antoine_amend.slack-bot-rag, version 3\nCreated version '3' of model 'users.antoine_amend.slack-bot-rag'.\n"
     ]
    }
   ],
   "source": [
    "from mlflow.tracking import MlflowClient\n",
    "mlflow.set_registry_uri('databricks-uc')\n",
    "client = MlflowClient()\n",
    "latest_model = mlflow.register_model(f'runs:/{run.info.run_id}/model', model_coordinates)\n",
    "client.set_registered_model_alias(model_coordinates, 'production', latest_model.version)"
   ]
  },
  {
   "cell_type": "code",
   "execution_count": 0,
   "metadata": {
    "application/vnd.databricks.v1+cell": {
     "cellMetadata": {
      "byteLimit": 2048000,
      "rowLimit": 10000
     },
     "inputWidgets": {},
     "nuid": "2e08e8ce-aa21-4345-b147-972fbe8e5731",
     "showTitle": false,
     "title": ""
    }
   },
   "outputs": [
    {
     "output_type": "stream",
     "name": "stdout",
     "output_type": "stream",
     "text": [
      "{\n  \"name\": \"slack-bot-rag\",\n  \"creator\": \"antoine.amend@databricks.com\",\n  \"creation_timestamp\": 1700843945000,\n  \"last_updated_timestamp\": 1700843945000,\n  \"state\": {\n    \"ready\": \"NOT_READY\",\n    \"config_update\": \"IN_PROGRESS\"\n  },\n  \"pending_config\": {\n    \"start_time\": 1700843945000,\n    \"served_models\": [\n      {\n        \"name\": \"slack-bot-rag-3\",\n        \"model_name\": \"users.antoine_amend.slack-bot-rag\",\n        \"model_version\": \"3\",\n        \"workload_size\": \"Small\",\n        \"scale_to_zero_enabled\": true,\n        \"workload_type\": \"CPU\",\n        \"state\": {\n          \"deployment\": \"DEPLOYMENT_CREATING\",\n          \"deployment_state_message\": \"Creating resources for served model.\"\n        },\n        \"creator\": \"antoine.amend@databricks.com\",\n        \"creation_timestamp\": 1700843945000\n      }\n    ],\n    \"config_version\": 1,\n    \"traffic_config\": {\n      \"routes\": [\n        {\n          \"served_model_name\": \"slack-bot-rag-3\",\n          \"traffic_percentage\": 100,\n          \"served_entity_name\": \"slack-bot-rag-3\"\n        }\n      ]\n    }\n  },\n  \"id\": \"252704a28e0048bcbee4abf30ff196f5\",\n  \"permission_level\": \"CAN_MANAGE\",\n  \"route_optimized\": false\n}\n"
     ]
    }
   ],
   "source": [
    "import requests\n",
    "import json\n",
    "\n",
    "payload = {\n",
    "  'name': model_name,\n",
    "  'config': {\n",
    "    'served_models': [{\n",
    "      'model_name': model_coordinates,\n",
    "      'model_version': latest_model.version,\n",
    "      'workload_size': 'Small',\n",
    "      'scale_to_zero_enabled': True\n",
    "    }]\n",
    "  }\n",
    "}\n",
    "\n",
    "x = requests.post(url, json=payload, headers=header)\n",
    "print(json.dumps(json.loads(x.text), indent=2))"
   ]
  }
 ],
 "metadata": {
  "application/vnd.databricks.v1+notebook": {
   "dashboards": [],
   "language": "python",
   "notebookMetadata": {
    "pythonIndentUnit": 2
   },
   "notebookName": "slack-bot-rag",
   "widgets": {}
  }
 },
 "nbformat": 4,
 "nbformat_minor": 0
}
